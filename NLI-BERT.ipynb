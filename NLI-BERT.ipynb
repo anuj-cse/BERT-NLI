{
 "cells": [
  {
   "cell_type": "code",
   "execution_count": 151,
   "metadata": {},
   "outputs": [],
   "source": [
    "import os\n",
    "import random \n",
    "\n",
    "os.environ[\"NCCL_P2P_DISABLE\"] = \"1\"\n",
    "os.environ[\"NCCL_IB_DISABLE\"] = \"1\" \n",
    "os.environ[\"CUDA_VISIBLE_DEVICES\"] = \"4,6,7\""
   ]
  },
  {
   "cell_type": "code",
   "execution_count": 152,
   "metadata": {},
   "outputs": [
    {
     "name": "stdout",
     "output_type": "stream",
     "text": [
      "1.25.2\n"
     ]
    }
   ],
   "source": [
    "import numpy\n",
    "print(numpy.__version__)"
   ]
  },
  {
   "cell_type": "code",
   "execution_count": 153,
   "metadata": {},
   "outputs": [],
   "source": [
    "\n",
    "from peft import LoraConfig\n",
    "from trl import SFTTrainer\n",
    "\n",
    "import pandas as pd\n",
    "from sklearn.metrics import accuracy_score, f1_score\n",
    "from datasets import load_dataset, Dataset\n",
    "\n",
    "from tqdm import tqdm\n",
    "from torch.utils.data import Dataset\n",
    "\n",
    "from peft import get_peft_model, LoraConfig\n",
    "# from bitsandbytes import nn\n",
    "\n",
    "import nltk\n",
    "from nltk.tree import Tree\n",
    "\n",
    "import matplotlib.pyplot as plt\n",
    "import seaborn as sns\n",
    "\n",
    "\n",
    "import pandas as pd\n",
    "import torch\n",
    "from torch.utils.data import Dataset, DataLoader\n",
    "\n",
    "\n",
    "# from torchtext.legacy import data\n",
    "from sklearn.model_selection import train_test_split\n",
    "from sklearn.metrics import f1_score\n",
    "\n",
    "\n",
    "from datasets import load_dataset\n",
    "import torch\n",
    "from transformers import BertTokenizer, BertModel\n",
    "import torch.nn as nn\n",
    "from torch.utils.data import DataLoader, Dataset\n",
    "import time\n",
    "import math\n",
    "from torch.optim import AdamW\n",
    "\n",
    "from tqdm import tqdm\n",
    "\n",
    "import warnings\n",
    "\n",
    "# Suppress the specific FutureWarning\n",
    "warnings.filterwarnings(\"ignore\", category=FutureWarning)"
   ]
  },
  {
   "cell_type": "markdown",
   "metadata": {},
   "source": [
    "#### Convert PCFG Data form to actual Data"
   ]
  },
  {
   "cell_type": "code",
   "execution_count": null,
   "metadata": {},
   "outputs": [],
   "source": [
    "def extract_raw_sentence(pcfg_parsed_text):\n",
    "    \"\"\"\n",
    "    Extracts raw sentence from PCFG parsed output.\n",
    "    \n",
    "    Args:\n",
    "    pcfg_parsed_text (str): A string representation of the PCFG parsed tree.\n",
    "    \n",
    "    Returns:\n",
    "    str: Extracted raw sentence.\n",
    "    \"\"\"\n",
    "    try:\n",
    "        tree = Tree.fromstring(pcfg_parsed_text)\n",
    "        raw_sentence = \" \".join(tree.leaves())\n",
    "        return raw_sentence\n",
    "    except ValueError:\n",
    "        return \"\"\n",
    "\n",
    "# Load the data\n",
    "def load_and_preprocess_data(train_path, valid_path, test_path):\n",
    "\n",
    "    # process train dataset\n",
    "    train_df = pd.read_csv(train_path, sep='\\t')\n",
    "    train_df['premise'] = train_df['Sent1_parse'].apply(extract_raw_sentence)\n",
    "    train_df['hypothesis'] = train_df['Sent2_parse'].apply(extract_raw_sentence)\n",
    "\n",
    "    # process validation dataset\n",
    "    valid_df = pd.read_csv(valid_path, sep='\\t')\n",
    "    valid_df['premise'] = valid_df['Sent1_parse'].apply(extract_raw_sentence)\n",
    "    valid_df['hypothesis'] = valid_df['Sent2_parse'].apply(extract_raw_sentence)\n",
    "\n",
    "    # process test dataset\n",
    "    test_df = pd.read_csv(test_path, sep='\\t')\n",
    "    test_df['premise'] = test_df['Sent1_parse'].apply(extract_raw_sentence)\n",
    "    test_df['hypothesis'] = test_df['Sent2_parse'].apply(extract_raw_sentence)\n",
    "\n",
    "    return train_df, valid_df, test_df"
   ]
  },
  {
   "cell_type": "code",
   "execution_count": null,
   "metadata": {},
   "outputs": [],
   "source": []
  },
  {
   "cell_type": "markdown",
   "metadata": {},
   "source": [
    "##### please create dataset folder, and put train.tsv, dev.tsv, test.tsv inside it"
   ]
  },
  {
   "cell_type": "code",
   "execution_count": 120,
   "metadata": {},
   "outputs": [],
   "source": [
    "# Load datasets\n",
    "train_df, valid_df, test_df = load_and_preprocess_data(\n",
    "    './dataset/train.tsv', './dataset/dev.tsv', './dataset/test.tsv'\n",
    ")"
   ]
  },
  {
   "cell_type": "code",
   "execution_count": 121,
   "metadata": {},
   "outputs": [
    {
     "name": "stdout",
     "output_type": "stream",
     "text": [
      "(550152, 5)\n",
      "(10000, 5)\n",
      "(10000, 5)\n"
     ]
    }
   ],
   "source": [
    "print(train_df.shape)\n",
    "print(valid_df.shape)\n",
    "print(test_df.shape)"
   ]
  },
  {
   "cell_type": "code",
   "execution_count": 122,
   "metadata": {},
   "outputs": [
    {
     "data": {
      "text/plain": [
       "'A person on a horse jumps over a broken down airplane .'"
      ]
     },
     "execution_count": 122,
     "metadata": {},
     "output_type": "execute_result"
    }
   ],
   "source": [
    "train_df['premise'][0]"
   ]
  },
  {
   "cell_type": "code",
   "execution_count": 123,
   "metadata": {},
   "outputs": [
    {
     "data": {
      "text/plain": [
       "'A person is training his horse for a competition .'"
      ]
     },
     "execution_count": 123,
     "metadata": {},
     "output_type": "execute_result"
    }
   ],
   "source": [
    "train_df['hypothesis'][0]"
   ]
  },
  {
   "cell_type": "markdown",
   "metadata": {},
   "source": [
    "### Visualize premise and hypothesis lengths plot"
   ]
  },
  {
   "cell_type": "code",
   "execution_count": 124,
   "metadata": {},
   "outputs": [
    {
     "data": {
      "image/png": "[encoded data removed]",
      "text/plain": [
       "<Figure size 1200x600 with 1 Axes>"
      ]
     },
     "metadata": {},
     "output_type": "display_data"
    },
    {
     "data": {
      "image/png": "[encoded data removed]",
      "text/plain": [
       "<Figure size 1200x600 with 1 Axes>"
      ]
     },
     "metadata": {},
     "output_type": "display_data"
    },
    {
     "data": {
      "image/png": "[encoded data removed]",
      "text/plain": [
       "<Figure size 1200x600 with 1 Axes>"
      ]
     },
     "metadata": {},
     "output_type": "display_data"
    }
   ],
   "source": [
    "\n",
    "\n",
    "# Calculate the length of premise and hypothesis sentences\n",
    "def calculate_sentence_lengths(df):\n",
    "    df['premise_length'] = df['premise'].apply(lambda x: len(x.split()))\n",
    "    df['hypothesis_length'] = df['hypothesis'].apply(lambda x: len(x.split()))\n",
    "    return df\n",
    "\n",
    "\n",
    "# Calculate sentence lengths for each dataset\n",
    "train_df = calculate_sentence_lengths(train_df)\n",
    "valid_df = calculate_sentence_lengths(valid_df)\n",
    "test_df = calculate_sentence_lengths(test_df)\n",
    "\n",
    "\n",
    "def plot_kde(df, dataset_name):\n",
    "    plt.figure(figsize=(12, 6))\n",
    "\n",
    "    # Plot KDE for premise lengths\n",
    "    sns.kdeplot(df['premise_length'], color='blue', label='Premise Length', fill=True)\n",
    "\n",
    "    # Plot KDE for hypothesis lengths\n",
    "    sns.kdeplot(df['hypothesis_length'], color='green', label='Hypothesis Length', fill=True)\n",
    "\n",
    "    # Add labels and title\n",
    "    plt.title(f'KDE of Sentence Lengths for {dataset_name} Dataset')\n",
    "    plt.xlabel('Sentence Length')\n",
    "    plt.ylabel('Density')\n",
    "    plt.legend()\n",
    "\n",
    "    # Show the plot\n",
    "    plt.show()\n",
    "\n",
    "# Plot KDE for train, validation, and test datasets\n",
    "plot_kde(train_df, 'Train')\n",
    "plot_kde(valid_df, 'Validation')\n",
    "plot_kde(test_df, 'Test')\n"
   ]
  },
  {
   "cell_type": "code",
   "execution_count": 125,
   "metadata": {},
   "outputs": [
    {
     "data": {
      "text/html": [
       "<div>\n",
       "<style scoped>\n",
       "    .dataframe tbody tr th:only-of-type {\n",
       "        vertical-align: middle;\n",
       "    }\n",
       "\n",
       "    .dataframe tbody tr th {\n",
       "        vertical-align: top;\n",
       "    }\n",
       "\n",
       "    .dataframe thead th {\n",
       "        text-align: right;\n",
       "    }\n",
       "</style>\n",
       "<table border=\"1\" class=\"dataframe\">\n",
       "  <thead>\n",
       "    <tr style=\"text-align: right;\">\n",
       "      <th></th>\n",
       "      <th>Sent1_parse</th>\n",
       "      <th>Sent2_parse</th>\n",
       "      <th>premise</th>\n",
       "      <th>hypothesis</th>\n",
       "      <th>premise_length</th>\n",
       "      <th>hypothesis_length</th>\n",
       "    </tr>\n",
       "    <tr>\n",
       "      <th>Label</th>\n",
       "      <th></th>\n",
       "      <th></th>\n",
       "      <th></th>\n",
       "      <th></th>\n",
       "      <th></th>\n",
       "      <th></th>\n",
       "    </tr>\n",
       "  </thead>\n",
       "  <tbody>\n",
       "    <tr>\n",
       "      <th>-</th>\n",
       "      <td>785</td>\n",
       "      <td>785</td>\n",
       "      <td>785</td>\n",
       "      <td>785</td>\n",
       "      <td>785</td>\n",
       "      <td>785</td>\n",
       "    </tr>\n",
       "    <tr>\n",
       "      <th>contradiction</th>\n",
       "      <td>183187</td>\n",
       "      <td>183187</td>\n",
       "      <td>183187</td>\n",
       "      <td>183187</td>\n",
       "      <td>183187</td>\n",
       "      <td>183187</td>\n",
       "    </tr>\n",
       "    <tr>\n",
       "      <th>entailment</th>\n",
       "      <td>183416</td>\n",
       "      <td>183416</td>\n",
       "      <td>183416</td>\n",
       "      <td>183416</td>\n",
       "      <td>183416</td>\n",
       "      <td>183416</td>\n",
       "    </tr>\n",
       "    <tr>\n",
       "      <th>neutral</th>\n",
       "      <td>182764</td>\n",
       "      <td>182764</td>\n",
       "      <td>182764</td>\n",
       "      <td>182764</td>\n",
       "      <td>182764</td>\n",
       "      <td>182764</td>\n",
       "    </tr>\n",
       "  </tbody>\n",
       "</table>\n",
       "</div>"
      ],
      "text/plain": [
       "               Sent1_parse  Sent2_parse  premise  hypothesis  premise_length  \\\n",
       "Label                                                                          \n",
       "-                      785          785      785         785             785   \n",
       "contradiction       183187       183187   183187      183187          183187   \n",
       "entailment          183416       183416   183416      183416          183416   \n",
       "neutral             182764       182764   182764      182764          182764   \n",
       "\n",
       "               hypothesis_length  \n",
       "Label                             \n",
       "-                            785  \n",
       "contradiction             183187  \n",
       "entailment                183416  \n",
       "neutral                   182764  "
      ]
     },
     "execution_count": 125,
     "metadata": {},
     "output_type": "execute_result"
    }
   ],
   "source": [
    "# Analyzing the data\n",
    "train_df.groupby('Label').count()"
   ]
  },
  {
   "cell_type": "code",
   "execution_count": 126,
   "metadata": {},
   "outputs": [],
   "source": [
    "# removing the entries from all train, dev and test datasets with label '-'\n",
    "train_df = train_df[train_df['Label'] != '-']\n",
    "valid_df = valid_df[valid_df['Label'] != '-']\n",
    "test_df = test_df[test_df['Label'] != '-']"
   ]
  },
  {
   "cell_type": "code",
   "execution_count": 127,
   "metadata": {},
   "outputs": [
    {
     "data": {
      "text/html": [
       "<div>\n",
       "<style scoped>\n",
       "    .dataframe tbody tr th:only-of-type {\n",
       "        vertical-align: middle;\n",
       "    }\n",
       "\n",
       "    .dataframe tbody tr th {\n",
       "        vertical-align: top;\n",
       "    }\n",
       "\n",
       "    .dataframe thead th {\n",
       "        text-align: right;\n",
       "    }\n",
       "</style>\n",
       "<table border=\"1\" class=\"dataframe\">\n",
       "  <thead>\n",
       "    <tr style=\"text-align: right;\">\n",
       "      <th></th>\n",
       "      <th>Sent1_parse</th>\n",
       "      <th>Sent2_parse</th>\n",
       "      <th>premise</th>\n",
       "      <th>hypothesis</th>\n",
       "      <th>premise_length</th>\n",
       "      <th>hypothesis_length</th>\n",
       "    </tr>\n",
       "    <tr>\n",
       "      <th>Label</th>\n",
       "      <th></th>\n",
       "      <th></th>\n",
       "      <th></th>\n",
       "      <th></th>\n",
       "      <th></th>\n",
       "      <th></th>\n",
       "    </tr>\n",
       "  </thead>\n",
       "  <tbody>\n",
       "    <tr>\n",
       "      <th>contradiction</th>\n",
       "      <td>183187</td>\n",
       "      <td>183187</td>\n",
       "      <td>183187</td>\n",
       "      <td>183187</td>\n",
       "      <td>183187</td>\n",
       "      <td>183187</td>\n",
       "    </tr>\n",
       "    <tr>\n",
       "      <th>entailment</th>\n",
       "      <td>183416</td>\n",
       "      <td>183416</td>\n",
       "      <td>183416</td>\n",
       "      <td>183416</td>\n",
       "      <td>183416</td>\n",
       "      <td>183416</td>\n",
       "    </tr>\n",
       "    <tr>\n",
       "      <th>neutral</th>\n",
       "      <td>182764</td>\n",
       "      <td>182764</td>\n",
       "      <td>182764</td>\n",
       "      <td>182764</td>\n",
       "      <td>182764</td>\n",
       "      <td>182764</td>\n",
       "    </tr>\n",
       "  </tbody>\n",
       "</table>\n",
       "</div>"
      ],
      "text/plain": [
       "               Sent1_parse  Sent2_parse  premise  hypothesis  premise_length  \\\n",
       "Label                                                                          \n",
       "contradiction       183187       183187   183187      183187          183187   \n",
       "entailment          183416       183416   183416      183416          183416   \n",
       "neutral             182764       182764   182764      182764          182764   \n",
       "\n",
       "               hypothesis_length  \n",
       "Label                             \n",
       "contradiction             183187  \n",
       "entailment                183416  \n",
       "neutral                   182764  "
      ]
     },
     "execution_count": 127,
     "metadata": {},
     "output_type": "execute_result"
    }
   ],
   "source": [
    "# dropping the rows from the data with NaN values\n",
    "train_df = train_df.dropna(subset = ['hypothesis'])\n",
    "\n",
    "train_df.groupby('Label').count()"
   ]
  },
  {
   "cell_type": "markdown",
   "metadata": {},
   "source": [
    "#### Extract Sequence, Attention Mask, Token Type, Label"
   ]
  },
  {
   "cell_type": "code",
   "execution_count": 162,
   "metadata": {},
   "outputs": [
    {
     "name": "stderr",
     "output_type": "stream",
     "text": [
      "loading file vocab.txt from cache at /data/home/arunkumar12/.cache/huggingface/hub/models--bert-base-uncased/snapshots/86b5e0934494bd15c9632b12f734a8a67f723594/vocab.txt\n",
      "loading file added_tokens.json from cache at None\n",
      "loading file special_tokens_map.json from cache at None\n",
      "loading file tokenizer_config.json from cache at /data/home/arunkumar12/.cache/huggingface/hub/models--bert-base-uncased/snapshots/86b5e0934494bd15c9632b12f734a8a67f723594/tokenizer_config.json\n",
      "loading file tokenizer.json from cache at /data/home/arunkumar12/.cache/huggingface/hub/models--bert-base-uncased/snapshots/86b5e0934494bd15c9632b12f734a8a67f723594/tokenizer.json\n",
      "loading file chat_template.jinja from cache at None\n",
      "loading configuration file config.json from cache at /data/home/arunkumar12/.cache/huggingface/hub/models--bert-base-uncased/snapshots/86b5e0934494bd15c9632b12f734a8a67f723594/config.json\n",
      "Model config BertConfig {\n",
      "  \"architectures\": [\n",
      "    \"BertForMaskedLM\"\n",
      "  ],\n",
      "  \"attention_probs_dropout_prob\": 0.1,\n",
      "  \"classifier_dropout\": null,\n",
      "  \"gradient_checkpointing\": false,\n",
      "  \"hidden_act\": \"gelu\",\n",
      "  \"hidden_dropout_prob\": 0.1,\n",
      "  \"hidden_size\": 768,\n",
      "  \"initializer_range\": 0.02,\n",
      "  \"intermediate_size\": 3072,\n",
      "  \"layer_norm_eps\": 1e-12,\n",
      "  \"max_position_embeddings\": 512,\n",
      "  \"model_type\": \"bert\",\n",
      "  \"num_attention_heads\": 12,\n",
      "  \"num_hidden_layers\": 12,\n",
      "  \"pad_token_id\": 0,\n",
      "  \"position_embedding_type\": \"absolute\",\n",
      "  \"transformers_version\": \"4.50.3\",\n",
      "  \"type_vocab_size\": 2,\n",
      "  \"use_cache\": true,\n",
      "  \"vocab_size\": 30522\n",
      "}\n",
      "\n"
     ]
    }
   ],
   "source": [
    "# Load the BERT tokenizer\n",
    "tokenizer = BertTokenizer.from_pretrained('bert-base-uncased')\n",
    "\n",
    "# Define constants\n",
    "max_sentence_length = 128\n",
    "pad_token_idx = tokenizer.pad_token_id\n",
    "unk_token_idx = tokenizer.unk_token_id\n",
    "cls_token_idx = tokenizer.cls_token_id\n",
    "sep_token_idx = tokenizer.sep_token_id\n",
    "\n",
    "\n",
    "\n",
    "def preprocess_nli_data(df):\n",
    "\n",
    "    df['premise'] =  df['premise'].apply(lambda x: x.split())\n",
    "    df['hypothesis'] =  df['hypothesis'].apply(lambda x: x.split())\n",
    "\n",
    "    df['premise'] =  df['premise'].apply(lambda x: x if len(x)<=64 else x[:64])\n",
    "    df['hypothesis'] =  df['hypothesis'].apply(lambda x: x if len(x)<=64 else x[:64])\n",
    "\n",
    "    df['premise'] =  df['premise'].apply(lambda x: \" \".join(x))\n",
    "    df['hypothesis'] =  df['hypothesis'].apply(lambda x: \" \".join(x))\n",
    "    \n",
    "\n",
    "    df['sent1'] = df['premise'].apply(lambda x: '[CLS] ' + x + ' [SEP] ')\n",
    "    df['sent2'] = df['hypothesis'].apply(lambda x: x + ' [SEP]')\n",
    "\n",
    "    df['tokenize_sent1'] = df['sent1'].apply(lambda x: tokenizer.tokenize(x))\n",
    "    df['tokenize_sent2'] = df['sent2'].apply(lambda x: tokenizer.tokenize(x))\n",
    "\n",
    "\n",
    "    df['sentence'] = df.apply(lambda row: row['tokenize_sent1'] + row['tokenize_sent2'], axis=1)\n",
    "\n",
    "    df['attention_mask'] = df['sentence'].apply(lambda x: ['1'] * len(x))  \n",
    "    df['token_type_ids'] = df.apply( lambda row: ['0'] * (len(row['tokenize_sent1'])) +  ['1'] * (len(row['tokenize_sent2'])), axis=1)\n",
    "\n",
    "    df['sequence'] = df['sentence'].apply(lambda x: \" \".join(x))\n",
    "    df['attention_mask'] = df['attention_mask'].apply(lambda x: \" \".join(x))\n",
    "    df['token_type'] = df['token_type_ids'].apply(lambda x: \" \".join(x))\n",
    "    \n",
    "    return df\n"
   ]
  },
  {
   "cell_type": "code",
   "execution_count": 129,
   "metadata": {},
   "outputs": [],
   "source": [
    "\n",
    "# Preprocess NLI data\n",
    "train_df = preprocess_nli_data(train_df)\n",
    "valid_df = preprocess_nli_data(valid_df)\n",
    "test_df = preprocess_nli_data(test_df)\n",
    "\n",
    "train_df = train_df[['Label', 'sequence', 'attention_mask', 'token_type']]\n",
    "valid_df = valid_df[['Label', 'sequence', 'attention_mask', 'token_type']]\n",
    "test_df = test_df[['Label', 'sequence', 'attention_mask', 'token_type']]\n",
    "                  \n",
    "train_df = train_df.loc[train_df['Label'].isin(['entailment','contradiction','neutral'])]\n",
    "valid_df = valid_df.loc[valid_df['Label'].isin(['entailment','contradiction','neutral'])]\n",
    "test_df = test_df.loc[test_df['Label'].isin(['entailment','contradiction','neutral'])]\n",
    "\n",
    "# Save processed data\n",
    "train_df.to_csv('./dataset/processed_train.csv', index=False)\n",
    "valid_df.to_csv('./dataset/processed_valid.csv', index=False)\n",
    "test_df.to_csv('./dataset/processed_test.csv', index=False)\n"
   ]
  },
  {
   "cell_type": "code",
   "execution_count": 130,
   "metadata": {},
   "outputs": [],
   "source": [
    "# train_df = pd.read_csv(\"./dataset/processed_train.csv\")\n",
    "# test_df = pd.read_csv(\"./dataset/processed_test.csv\")\n",
    "# valid_df = pd.read_csv(\"./dataset/processed_valid.csv\")"
   ]
  },
  {
   "cell_type": "code",
   "execution_count": 131,
   "metadata": {},
   "outputs": [
    {
     "data": {
      "text/html": [
       "<div>\n",
       "<style scoped>\n",
       "    .dataframe tbody tr th:only-of-type {\n",
       "        vertical-align: middle;\n",
       "    }\n",
       "\n",
       "    .dataframe tbody tr th {\n",
       "        vertical-align: top;\n",
       "    }\n",
       "\n",
       "    .dataframe thead th {\n",
       "        text-align: right;\n",
       "    }\n",
       "</style>\n",
       "<table border=\"1\" class=\"dataframe\">\n",
       "  <thead>\n",
       "    <tr style=\"text-align: right;\">\n",
       "      <th></th>\n",
       "      <th>Label</th>\n",
       "      <th>sequence</th>\n",
       "      <th>attention_mask</th>\n",
       "      <th>token_type</th>\n",
       "    </tr>\n",
       "  </thead>\n",
       "  <tbody>\n",
       "    <tr>\n",
       "      <th>0</th>\n",
       "      <td>neutral</td>\n",
       "      <td>[CLS] a person on a horse jumps over a broken ...</td>\n",
       "      <td>1 1 1 1 1 1 1 1 1 1 1 1 1 1 1 1 1 1 1 1 1 1 1 1 1</td>\n",
       "      <td>0 0 0 0 0 0 0 0 0 0 0 0 0 0 1 1 1 1 1 1 1 1 1 1 1</td>\n",
       "    </tr>\n",
       "    <tr>\n",
       "      <th>1</th>\n",
       "      <td>contradiction</td>\n",
       "      <td>[CLS] a person on a horse jumps over a broken ...</td>\n",
       "      <td>1 1 1 1 1 1 1 1 1 1 1 1 1 1 1 1 1 1 1 1 1 1 1 ...</td>\n",
       "      <td>0 0 0 0 0 0 0 0 0 0 0 0 0 0 1 1 1 1 1 1 1 1 1 ...</td>\n",
       "    </tr>\n",
       "    <tr>\n",
       "      <th>2</th>\n",
       "      <td>entailment</td>\n",
       "      <td>[CLS] a person on a horse jumps over a broken ...</td>\n",
       "      <td>1 1 1 1 1 1 1 1 1 1 1 1 1 1 1 1 1 1 1 1 1 1 1 1</td>\n",
       "      <td>0 0 0 0 0 0 0 0 0 0 0 0 0 0 1 1 1 1 1 1 1 1 1 1</td>\n",
       "    </tr>\n",
       "    <tr>\n",
       "      <th>3</th>\n",
       "      <td>neutral</td>\n",
       "      <td>[CLS] children smiling and waving at camera [S...</td>\n",
       "      <td>1 1 1 1 1 1 1 1 1 1 1 1 1 1 1</td>\n",
       "      <td>0 0 0 0 0 0 0 0 1 1 1 1 1 1 1</td>\n",
       "    </tr>\n",
       "    <tr>\n",
       "      <th>4</th>\n",
       "      <td>entailment</td>\n",
       "      <td>[CLS] children smiling and waving at camera [S...</td>\n",
       "      <td>1 1 1 1 1 1 1 1 1 1 1 1 1</td>\n",
       "      <td>0 0 0 0 0 0 0 0 1 1 1 1 1</td>\n",
       "    </tr>\n",
       "  </tbody>\n",
       "</table>\n",
       "</div>"
      ],
      "text/plain": [
       "           Label                                           sequence  \\\n",
       "0        neutral  [CLS] a person on a horse jumps over a broken ...   \n",
       "1  contradiction  [CLS] a person on a horse jumps over a broken ...   \n",
       "2     entailment  [CLS] a person on a horse jumps over a broken ...   \n",
       "3        neutral  [CLS] children smiling and waving at camera [S...   \n",
       "4     entailment  [CLS] children smiling and waving at camera [S...   \n",
       "\n",
       "                                      attention_mask  \\\n",
       "0  1 1 1 1 1 1 1 1 1 1 1 1 1 1 1 1 1 1 1 1 1 1 1 1 1   \n",
       "1  1 1 1 1 1 1 1 1 1 1 1 1 1 1 1 1 1 1 1 1 1 1 1 ...   \n",
       "2    1 1 1 1 1 1 1 1 1 1 1 1 1 1 1 1 1 1 1 1 1 1 1 1   \n",
       "3                      1 1 1 1 1 1 1 1 1 1 1 1 1 1 1   \n",
       "4                          1 1 1 1 1 1 1 1 1 1 1 1 1   \n",
       "\n",
       "                                          token_type  \n",
       "0  0 0 0 0 0 0 0 0 0 0 0 0 0 0 1 1 1 1 1 1 1 1 1 1 1  \n",
       "1  0 0 0 0 0 0 0 0 0 0 0 0 0 0 1 1 1 1 1 1 1 1 1 ...  \n",
       "2    0 0 0 0 0 0 0 0 0 0 0 0 0 0 1 1 1 1 1 1 1 1 1 1  \n",
       "3                      0 0 0 0 0 0 0 0 1 1 1 1 1 1 1  \n",
       "4                          0 0 0 0 0 0 0 0 1 1 1 1 1  "
      ]
     },
     "execution_count": 131,
     "metadata": {},
     "output_type": "execute_result"
    }
   ],
   "source": [
    "train_df.head(5)"
   ]
  },
  {
   "cell_type": "code",
   "execution_count": null,
   "metadata": {},
   "outputs": [],
   "source": []
  },
  {
   "cell_type": "code",
   "execution_count": 132,
   "metadata": {},
   "outputs": [],
   "source": [
    "# sen = train_df['sequence'][0]\n",
    "# tokens = sen.split(' ')\n",
    "# print(tokens)\n",
    "# ids = tokenizer.convert_tokens_to_ids(tokens)\n",
    "# print(ids)"
   ]
  },
  {
   "cell_type": "code",
   "execution_count": 133,
   "metadata": {},
   "outputs": [],
   "source": [
    "####   [CLS]->101   [SEP]->102   [PAD]->0   [UNK]->100"
   ]
  },
  {
   "cell_type": "markdown",
   "metadata": {},
   "source": [
    "#### Create DataLoader Specific to BERT Model"
   ]
  },
  {
   "cell_type": "code",
   "execution_count": 134,
   "metadata": {},
   "outputs": [],
   "source": [
    "import torch\n",
    "from torch.utils.data import Dataset\n",
    "from transformers import BertTokenizer\n",
    "\n",
    "\n",
    "class NliDataset(Dataset):\n",
    "    def __init__(self, dataframe, tokenizer):\n",
    "        self.dataframe = dataframe\n",
    "        self.tokenizer = tokenizer\n",
    "\n",
    "    def __len__(self):\n",
    "        return len(self.dataframe)\n",
    "\n",
    "    def __getitem__(self, idx):\n",
    "        \n",
    "        sequence = self.dataframe.iloc[idx]['sequence']\n",
    "        tokens = sequence.split(' ')\n",
    "        input_ids = tokenizer.convert_tokens_to_ids(tokens)\n",
    "\n",
    "        attention_mask = self.dataframe.iloc[idx]['attention_mask']\n",
    "        token_type_ids = self.dataframe.iloc[idx]['token_type']\n",
    "\n",
    "        attention_mask = list(map(int, attention_mask.split()))\n",
    "        token_type_ids = list(map(int, token_type_ids.split()))\n",
    "\n",
    "\n",
    "        # Convert the label into an integer\n",
    "        label = self.dataframe.iloc[idx]['Label']\n",
    "        label_map = {'entailment': 0, 'contradiction': 1, 'neutral': 2}\n",
    "        label = label_map[label]\n",
    "\n",
    "        return {\n",
    "            'input_ids': torch.tensor(input_ids, dtype=torch.long),\n",
    "            'attention_mask': torch.tensor(attention_mask, dtype=torch.long),\n",
    "            'token_type_ids': torch.tensor(token_type_ids, dtype=torch.long),\n",
    "            'label': torch.tensor(label, dtype=torch.long),\n",
    "            'length': len(input_ids)\n",
    "        }\n",
    "\n"
   ]
  },
  {
   "cell_type": "code",
   "execution_count": 135,
   "metadata": {},
   "outputs": [],
   "source": [
    "def collate_fn(batch):\n",
    "    batch = sorted(batch, key=lambda x: x['length'])\n",
    "    \n",
    "    # Find the max length in the batch\n",
    "    max_len = max([x['length'] for x in batch])\n",
    "    \n",
    "    # Initialize padded tensors\n",
    "    input_ids = torch.zeros(len(batch), max_len, dtype=torch.long)\n",
    "    attention_mask = torch.zeros(len(batch), max_len, dtype=torch.long)\n",
    "    token_type_ids = torch.ones(len(batch), max_len, dtype=torch.long)\n",
    "    labels = torch.zeros(len(batch), dtype=torch.long)\n",
    "\n",
    "    # Fill the tensors with the batch data\n",
    "    for i, item in enumerate(batch):\n",
    "        input_ids[i, :item['length']] = item['input_ids']\n",
    "        attention_mask[i, :item['length']] = item['attention_mask']\n",
    "        token_type_ids[i, :item['length']] = item['token_type_ids']\n",
    "        labels[i] = item['label']\n",
    "    \n",
    "    return {\n",
    "        'input_ids': input_ids,\n",
    "        'attention_mask': attention_mask,\n",
    "        'token_type_ids': token_type_ids,\n",
    "        'label': labels\n",
    "    }"
   ]
  },
  {
   "cell_type": "code",
   "execution_count": null,
   "metadata": {},
   "outputs": [
    {
     "name": "stderr",
     "output_type": "stream",
     "text": [
      "loading file vocab.txt from cache at /data/home/arunkumar12/.cache/huggingface/hub/models--bert-base-uncased/snapshots/86b5e0934494bd15c9632b12f734a8a67f723594/vocab.txt\n",
      "loading file added_tokens.json from cache at None\n",
      "loading file special_tokens_map.json from cache at None\n",
      "loading file tokenizer_config.json from cache at /data/home/arunkumar12/.cache/huggingface/hub/models--bert-base-uncased/snapshots/86b5e0934494bd15c9632b12f734a8a67f723594/tokenizer_config.json\n",
      "loading file tokenizer.json from cache at /data/home/arunkumar12/.cache/huggingface/hub/models--bert-base-uncased/snapshots/86b5e0934494bd15c9632b12f734a8a67f723594/tokenizer.json\n",
      "loading file chat_template.jinja from cache at None\n",
      "loading configuration file config.json from cache at /data/home/arunkumar12/.cache/huggingface/hub/models--bert-base-uncased/snapshots/86b5e0934494bd15c9632b12f734a8a67f723594/config.json\n",
      "Model config BertConfig {\n",
      "  \"architectures\": [\n",
      "    \"BertForMaskedLM\"\n",
      "  ],\n",
      "  \"attention_probs_dropout_prob\": 0.1,\n",
      "  \"classifier_dropout\": null,\n",
      "  \"gradient_checkpointing\": false,\n",
      "  \"hidden_act\": \"gelu\",\n",
      "  \"hidden_dropout_prob\": 0.1,\n",
      "  \"hidden_size\": 768,\n",
      "  \"initializer_range\": 0.02,\n",
      "  \"intermediate_size\": 3072,\n",
      "  \"layer_norm_eps\": 1e-12,\n",
      "  \"max_position_embeddings\": 512,\n",
      "  \"model_type\": \"bert\",\n",
      "  \"num_attention_heads\": 12,\n",
      "  \"num_hidden_layers\": 12,\n",
      "  \"pad_token_id\": 0,\n",
      "  \"position_embedding_type\": \"absolute\",\n",
      "  \"transformers_version\": \"4.50.3\",\n",
      "  \"type_vocab_size\": 2,\n",
      "  \"use_cache\": true,\n",
      "  \"vocab_size\": 30522\n",
      "}\n",
      "\n"
     ]
    }
   ],
   "source": [
    "# Initialize the tokenizer\n",
    "tokenizer = BertTokenizer.from_pretrained('bert-base-uncased')\n",
    "\n",
    "\n",
    "# Load data (you need to load your dataframe here)\n",
    "train_df = pd.read_csv('./dataset/processed_train.csv')\n",
    "valid_df = pd.read_csv('./dataset/processed_valid.csv')\n",
    "test_df = pd.read_csv('./dataset/processed_test.csv')\n",
    "\n",
    "# Sort the DataFrames by sequence length\n",
    "train_df['length'] = train_df['sequence'].apply(lambda x: len(x.split(' ')))\n",
    "valid_df['length'] = valid_df['sequence'].apply(lambda x: len(x.split(' ')))\n",
    "test_df['length'] = test_df['sequence'].apply(lambda x: len(x.split(' ')))\n",
    "\n",
    "# Sort by the length column\n",
    "train_df = train_df.sort_values(by='length', ascending=True).reset_index(drop=True)\n",
    "valid_df = valid_df.sort_values(by='length', ascending=True).reset_index(drop=True)\n",
    "test_df = test_df.sort_values(by='length', ascending=True).reset_index(drop=True)\n",
    "\n",
    "# Create Datasets\n",
    "train_dataset = NliDataset(train_df, tokenizer)\n",
    "valid_dataset = NliDataset(valid_df, tokenizer)\n",
    "test_dataset = NliDataset(test_df, tokenizer)\n",
    "\n"
   ]
  },
  {
   "cell_type": "code",
   "execution_count": 137,
   "metadata": {},
   "outputs": [],
   "source": [
    "# Create DataLoader\n",
    "BATCH_SIZE = 16\n",
    "\n",
    "train_dataloader = DataLoader(train_dataset, batch_size=BATCH_SIZE, shuffle=True, collate_fn=collate_fn)\n",
    "valid_dataloader = DataLoader(valid_dataset, batch_size=BATCH_SIZE, shuffle=False, collate_fn=collate_fn)\n",
    "test_dataloader = DataLoader(test_dataset, batch_size=BATCH_SIZE, shuffle=False, collate_fn=collate_fn)"
   ]
  },
  {
   "cell_type": "markdown",
   "metadata": {},
   "source": [
    "#### Define Custom Model using BERT for Classification Task"
   ]
  },
  {
   "cell_type": "code",
   "execution_count": 157,
   "metadata": {},
   "outputs": [],
   "source": [
    "\n",
    "# Define BERT-based NLI Model\n",
    "class BERTNLIModel(nn.Module):\n",
    "    def __init__(self, bert_model, hidden_dim, output_dim):\n",
    "        super().__init__()\n",
    "        self.bert = bert_model\n",
    "        embedding_dim = bert_model.config.to_dict()['hidden_size']\n",
    "        self.out = nn.Linear(embedding_dim, output_dim)\n",
    "\n",
    "    def forward(self, input_ids, attention_mask, token_type_ids):\n",
    "        embedded = self.bert(\n",
    "            input_ids=input_ids,\n",
    "            attention_mask=attention_mask,\n",
    "            token_type_ids=token_type_ids\n",
    "        )[1]  # Use the pooled output\n",
    "        output = self.out(embedded)\n",
    "        return output\n"
   ]
  },
  {
   "cell_type": "code",
   "execution_count": 158,
   "metadata": {},
   "outputs": [],
   "source": [
    "device = torch.device(\"cuda\" if torch.cuda.is_available() else \"cpu\")"
   ]
  },
  {
   "cell_type": "code",
   "execution_count": 159,
   "metadata": {},
   "outputs": [
    {
     "name": "stderr",
     "output_type": "stream",
     "text": [
      "loading configuration file config.json from cache at /data/home/arunkumar12/.cache/huggingface/hub/models--bert-base-uncased/snapshots/86b5e0934494bd15c9632b12f734a8a67f723594/config.json\n",
      "Model config BertConfig {\n",
      "  \"architectures\": [\n",
      "    \"BertForMaskedLM\"\n",
      "  ],\n",
      "  \"attention_probs_dropout_prob\": 0.1,\n",
      "  \"classifier_dropout\": null,\n",
      "  \"gradient_checkpointing\": false,\n",
      "  \"hidden_act\": \"gelu\",\n",
      "  \"hidden_dropout_prob\": 0.1,\n",
      "  \"hidden_size\": 768,\n",
      "  \"initializer_range\": 0.02,\n",
      "  \"intermediate_size\": 3072,\n",
      "  \"layer_norm_eps\": 1e-12,\n",
      "  \"max_position_embeddings\": 512,\n",
      "  \"model_type\": \"bert\",\n",
      "  \"num_attention_heads\": 12,\n",
      "  \"num_hidden_layers\": 12,\n",
      "  \"pad_token_id\": 0,\n",
      "  \"position_embedding_type\": \"absolute\",\n",
      "  \"transformers_version\": \"4.50.3\",\n",
      "  \"type_vocab_size\": 2,\n",
      "  \"use_cache\": true,\n",
      "  \"vocab_size\": 30522\n",
      "}\n",
      "\n",
      "loading weights file model.safetensors from cache at /data/home/arunkumar12/.cache/huggingface/hub/models--bert-base-uncased/snapshots/86b5e0934494bd15c9632b12f734a8a67f723594/model.safetensors\n",
      "Some weights of the model checkpoint at bert-base-uncased were not used when initializing BertModel: ['cls.predictions.bias', 'cls.predictions.transform.LayerNorm.beta', 'cls.predictions.transform.LayerNorm.gamma', 'cls.predictions.transform.dense.bias', 'cls.predictions.transform.dense.weight', 'cls.seq_relationship.bias', 'cls.seq_relationship.weight']\n",
      "- This IS expected if you are initializing BertModel from the checkpoint of a model trained on another task or with another architecture (e.g. initializing a BertForSequenceClassification model from a BertForPreTraining model).\n",
      "- This IS NOT expected if you are initializing BertModel from the checkpoint of a model that you expect to be exactly identical (initializing a BertForSequenceClassification model from a BertForSequenceClassification model).\n",
      "All the weights of BertModel were initialized from the model checkpoint at bert-base-uncased.\n",
      "If your task is similar to the task the model of the checkpoint was trained on, you can already use BertModel for predictions without further training.\n"
     ]
    }
   ],
   "source": [
    "\n",
    "# Initialize BERT model\n",
    "bert_model = BertModel.from_pretrained('bert-base-uncased')\n",
    "HIDDEN_DIM = 512\n",
    "OUTPUT_DIM = 3  # 'entailment', 'contradiction', 'neutral'\n",
    "model = BERTNLIModel(bert_model, HIDDEN_DIM, OUTPUT_DIM).to(device)\n",
    "\n",
    "# Define optimizer and scheduler\n",
    "optimizer = AdamW(model.parameters(), lr=2e-5, eps=1e-6)\n",
    "criterion = nn.CrossEntropyLoss().to(device)\n",
    "\n",
    "# Training loop\n",
    "N_EPOCHS = 3\n",
    "warmup_percent = 0.2\n",
    "total_steps = math.ceil(N_EPOCHS * len(train_dataloader) / BATCH_SIZE)\n",
    "warmup_steps = int(total_steps * warmup_percent)\n"
   ]
  },
  {
   "cell_type": "code",
   "execution_count": null,
   "metadata": {},
   "outputs": [],
   "source": []
  },
  {
   "cell_type": "code",
   "execution_count": 141,
   "metadata": {},
   "outputs": [
    {
     "name": "stdout",
     "output_type": "stream",
     "text": [
      "The model has 109,484,547 trainable parameters\n"
     ]
    }
   ],
   "source": [
    "# function to count the parameters of the model\n",
    "def count_parameters(model):\n",
    "  return sum(p.numel() for p in model.parameters() if p. requires_grad)\n",
    "\n",
    "print(f'The model has {count_parameters(model):,} trainable parameters')"
   ]
  },
  {
   "cell_type": "code",
   "execution_count": 142,
   "metadata": {},
   "outputs": [],
   "source": [
    "def get_scheduler(optimizer, warmup_steps):\n",
    "    scheduler = get_constant_schedule_with_warmup(optimizer, num_warmup_steps=warmup_steps)\n",
    "    return scheduler\n",
    "criterion = nn.CrossEntropyLoss().to(device)\n"
   ]
  },
  {
   "cell_type": "code",
   "execution_count": 143,
   "metadata": {},
   "outputs": [],
   "source": [
    "\n",
    "def categorical_accuracy(preds, y):\n",
    "    max_preds = preds.argmax(dim = 1, keepdim = True)\n",
    "\n",
    "    correct = (max_preds.squeeze(1)==y).float()\n",
    "\n",
    "    return correct.sum() / len(y)"
   ]
  },
  {
   "cell_type": "markdown",
   "metadata": {},
   "source": [
    "#### Model Training"
   ]
  },
  {
   "cell_type": "code",
   "execution_count": 144,
   "metadata": {},
   "outputs": [],
   "source": [
    "max_grad_norm = 1\n",
    "def train(model, iterator, optimizer, criterion, scheduler):\n",
    "    epoch_loss = 0\n",
    "    epoch_acc = 0\n",
    "    idx = 0\n",
    "    model.train()\n",
    "    pbar = tqdm(iterator, desc=\"Training\")\n",
    "    for batch in pbar:\n",
    "        optimizer.zero_grad() # clear gradients first\n",
    "        torch.cuda.empty_cache() \n",
    "        sequence = batch['input_ids'].to(device)\n",
    "        attn_mask = batch['attention_mask'].to(device)\n",
    "        token_type = batch['token_type_ids'].to(device)\n",
    "        labels = batch['label'].to(device)\n",
    "        predictions = model(sequence, attn_mask, token_type)\n",
    "        loss = criterion(predictions, labels)\n",
    "        acc = categorical_accuracy(predictions, labels)\n",
    "        \n",
    "        loss.backward()\n",
    "        optimizer.step()\n",
    "        scheduler.step()\n",
    "        epoch_loss += loss.item()\n",
    "        epoch_acc += acc.item()\n",
    "\n",
    "        pbar.set_description(f\"Loss: {epoch_loss / (idx + 1):.4f} | Acc: {epoch_acc / (idx + 1):.4f}\")\n",
    "\n",
    "        idx += 1\n",
    "        \n",
    "    return epoch_loss / len(iterator), epoch_acc / len(iterator)"
   ]
  },
  {
   "cell_type": "markdown",
   "metadata": {},
   "source": [
    "#### Model Evaluation"
   ]
  },
  {
   "cell_type": "code",
   "execution_count": 145,
   "metadata": {},
   "outputs": [],
   "source": [
    "def evaluate(model, iterator, criterion):\n",
    "    epoch_loss = 0\n",
    "    epoch_acc = 0\n",
    "    model.eval()\n",
    "    idx = 0\n",
    "    with torch.no_grad():\n",
    "        pbar = tqdm(iterator, desc=\"Validation\")\n",
    "        for batch in pbar:\n",
    "            sequence = batch['input_ids'].to(device)\n",
    "            attn_mask = batch['attention_mask'].to(device)\n",
    "            token_type = batch['token_type_ids'].to(device)\n",
    "            labels = batch['label'].to(device)\n",
    "            predictions = model(sequence, attn_mask, token_type)\n",
    "            loss = criterion(predictions, labels)\n",
    "            acc = categorical_accuracy(predictions, labels)\n",
    "            epoch_loss += loss.item()\n",
    "            epoch_acc += acc.item()\n",
    "\n",
    "            pbar.set_description(f\"Loss: {epoch_loss / (idx + 1):.4f} | Acc: {epoch_acc / (idx + 1):.4f}\")\n",
    "\n",
    "            idx += 1\n",
    "\n",
    "\n",
    "    return epoch_loss / len(iterator), epoch_acc / len(iterator)"
   ]
  },
  {
   "cell_type": "markdown",
   "metadata": {},
   "source": [
    "### Model Testing"
   ]
  },
  {
   "cell_type": "code",
   "execution_count": 146,
   "metadata": {},
   "outputs": [],
   "source": [
    "\n",
    "\n",
    "def test(model, iterator, criterion):\n",
    "    epoch_loss = 0\n",
    "    epoch_acc = 0\n",
    "    epoch_f1 = 0\n",
    "    epoch_macro_f1 = 0\n",
    "    model.eval()\n",
    "    idx = 0\n",
    "    all_preds = []\n",
    "    all_labels = []\n",
    "\n",
    "    with torch.no_grad():\n",
    "        pbar = tqdm(iterator, desc=\"Test\")\n",
    "        for batch in pbar:\n",
    "            sequence = batch['input_ids'].to(device)\n",
    "            attn_mask = batch['attention_mask'].to(device)\n",
    "            token_type = batch['token_type_ids'].to(device)\n",
    "            labels = batch['label'].to(device)\n",
    "\n",
    "            # Get predictions from the model\n",
    "            predictions = model(sequence, attn_mask, token_type)\n",
    "\n",
    "            # Compute loss\n",
    "            loss = criterion(predictions, labels)\n",
    "            acc = categorical_accuracy(predictions, labels)\n",
    "\n",
    "            # Calculate F1 score\n",
    "            preds = torch.argmax(predictions, dim=1).cpu().numpy()\n",
    "            labels_np = labels.cpu().numpy()\n",
    "            \n",
    "            # Calculate micro F1 and macro F1\n",
    "            f1 = f1_score(labels_np, preds, average='micro')\n",
    "            macro_f1 = f1_score(labels_np, preds, average='macro')\n",
    "\n",
    "            # Aggregate metrics\n",
    "            epoch_loss += loss.item()\n",
    "            epoch_acc += acc.item()\n",
    "            epoch_f1 += f1\n",
    "            epoch_macro_f1 += macro_f1\n",
    "\n",
    "            # Store predictions and labels for later (optional)\n",
    "            all_preds.extend(preds)\n",
    "            all_labels.extend(labels_np)\n",
    "\n",
    "            # Update progress bar description\n",
    "            pbar.set_description(f\"Loss: {epoch_loss / (idx + 1):.4f} | Acc: {epoch_acc / (idx + 1):.4f} | \"\n",
    "                                 f\"Micro F1: {epoch_f1 / (idx + 1):.4f} | Macro F1: {epoch_macro_f1 / (idx + 1):.4f}\")\n",
    "\n",
    "            idx += 1\n",
    "\n",
    "    # Compute the final metrics\n",
    "    avg_loss = epoch_loss / len(iterator)\n",
    "    avg_acc = epoch_acc / len(iterator)\n",
    "    avg_f1 = epoch_f1 / len(iterator)\n",
    "    avg_macro_f1 = epoch_macro_f1 / len(iterator)\n",
    "\n",
    "    return avg_loss, avg_acc, avg_f1, avg_macro_f1\n"
   ]
  },
  {
   "cell_type": "code",
   "execution_count": 147,
   "metadata": {},
   "outputs": [],
   "source": [
    "import time\n",
    "def epoch_time(start_time, end_time):\n",
    "    elapsed_time = end_time - start_time\n",
    "    elapsed_mins = int(elapsed_time / 60)\n",
    "    elapsed_secs = int(elapsed_time - (elapsed_mins * 60))\n",
    "    return elapsed_mins, elapsed_secs"
   ]
  },
  {
   "cell_type": "markdown",
   "metadata": {},
   "source": [
    "### Start Training and Validation"
   ]
  },
  {
   "cell_type": "code",
   "execution_count": null,
   "metadata": {},
   "outputs": [
    {
     "name": "stderr",
     "output_type": "stream",
     "text": [
      "Loss: 0.4082 | Acc: 0.8428: 100%|██████████| 34336/34336 [1:00:00<00:00,  9.54it/s]\n",
      "Loss: 0.2974 | Acc: 0.8899: 100%|██████████| 616/616 [00:14<00:00, 42.91it/s]\n"
     ]
    },
    {
     "name": "stdout",
     "output_type": "stream",
     "text": [
      "Epoch: 01 | Epoch Time: 60m 15s\n",
      "Train Loss: 0.408 | Train Acc: 84.28%\n",
      "Val. Loss: 0.297 | Val. Acc: 88.99%\n"
     ]
    },
    {
     "name": "stderr",
     "output_type": "stream",
     "text": [
      "Loss: 0.2833 | Acc: 0.8973: 100%|██████████| 34336/34336 [1:05:54<00:00,  8.68it/s]\n",
      "Loss: 0.2743 | Acc: 0.9028: 100%|██████████| 616/616 [00:15<00:00, 40.72it/s]\n"
     ]
    },
    {
     "name": "stdout",
     "output_type": "stream",
     "text": [
      "Epoch: 02 | Epoch Time: 66m 9s\n",
      "Train Loss: 0.283 | Train Acc: 89.73%\n",
      "Val. Loss: 0.274 | Val. Acc: 90.28%\n"
     ]
    },
    {
     "name": "stderr",
     "output_type": "stream",
     "text": [
      "Loss: 0.2198 | Acc: 0.9220: 100%|██████████| 34336/34336 [1:10:00<00:00,  8.17it/s]\n",
      "Loss: 0.3076 | Acc: 0.8994: 100%|██████████| 616/616 [00:13<00:00, 46.28it/s]"
     ]
    },
    {
     "name": "stdout",
     "output_type": "stream",
     "text": [
      "Epoch: 03 | Epoch Time: 70m 14s\n",
      "Train Loss: 0.220 | Train Acc: 92.20%\n",
      "Val. Loss: 0.308 | Val. Acc: 89.94%\n"
     ]
    },
    {
     "name": "stderr",
     "output_type": "stream",
     "text": [
      "\n"
     ]
    }
   ],
   "source": [
    "import math\n",
    "N_EPOCHS = 3\n",
    "warmup_percent = 0.2\n",
    "total_steps = math.ceil(N_EPOCHS*len(train_dataloader)*1./BATCH_SIZE)\n",
    "warmup_steps = int(total_steps*warmup_percent)\n",
    "scheduler = get_scheduler(optimizer, warmup_steps)\n",
    "best_valid_loss = float('inf')\n",
    "\n",
    "for epoch in range(N_EPOCHS):\n",
    "    start_time = time.time()\n",
    "    train_loss, train_acc = train(model, train_dataloader, optimizer, criterion, scheduler)\n",
    "    valid_loss, valid_acc = evaluate(model, valid_dataloader, criterion)\n",
    "    end_time = time.time()\n",
    "    epoch_mins, epoch_secs = epoch_time(start_time, end_time)\n",
    "    if valid_loss < best_valid_loss:\n",
    "        best_valid_loss = valid_loss\n",
    "        torch.save(model.state_dict(), 'best-model.pt')\n",
    "    print(f'Epoch: {epoch+1:02} | Epoch Time: {epoch_mins}m {epoch_secs}s')\n",
    "    print(f'Train Loss: {train_loss:.3f} | Train Acc: {train_acc*100:.2f}%')\n",
    "    print(f'Val. Loss: {valid_loss:.3f} | Val. Acc: {valid_acc*100:.2f}%')"
   ]
  },
  {
   "cell_type": "markdown",
   "metadata": {},
   "source": [
    "### Testing"
   ]
  },
  {
   "cell_type": "code",
   "execution_count": 161,
   "metadata": {},
   "outputs": [
    {
     "name": "stderr",
     "output_type": "stream",
     "text": [
      "Loss: 0.2834 | Acc: 0.9020 | Micro F1: 0.9020 | Macro F1: 0.8909: 100%|██████████| 614/614 [00:13<00:00, 44.67it/s]"
     ]
    },
    {
     "name": "stdout",
     "output_type": "stream",
     "text": [
      "Test Loss: 0.283 |  Test Acc: 0.90 | Test F1: 0.902 | Test Macro F1: 0.891\n"
     ]
    },
    {
     "name": "stderr",
     "output_type": "stream",
     "text": [
      "\n"
     ]
    }
   ],
   "source": [
    "model.load_state_dict(torch.load('best-model.pt'))\n",
    "test_loss, test_acc, test_f1, test_macro_f1 = test(model, test_dataloader, criterion)\n",
    "print(f'Test Loss: {test_loss:.3f} |  Test Acc: {test_acc:.2f} | Test F1: {test_f1:.3f} | Test Macro F1: {test_macro_f1:.3f}')"
   ]
  },
  {
   "cell_type": "code",
   "execution_count": null,
   "metadata": {},
   "outputs": [],
   "source": []
  },
  {
   "cell_type": "markdown",
   "metadata": {},
   "source": [
    "### Prediction"
   ]
  },
  {
   "cell_type": "code",
   "execution_count": 195,
   "metadata": {},
   "outputs": [],
   "source": [
    "\n",
    "def predict(model, premise, hypothesis, tokenizer, device):\n",
    "\n",
    "\n",
    "    premise = premise.split()\n",
    "    premise = premise if len(premise)<=64 else premise[:64]\n",
    "    premise = \" \".join(premise)\n",
    "    premise = '[CLS] ' + premise + ' [SEP] '\n",
    "    premise_tokens = tokenizer.tokenize(premise)\n",
    "    # print(\"Premise tokens are:\",premise_tokens)\n",
    "\n",
    "    hypothesis = hypothesis.split()\n",
    "    hypothesis = hypothesis if len(hypothesis)<=64 else hypothesis[:64]\n",
    "    hypothesis = \" \".join(hypothesis)\n",
    "    hypothesis = hypothesis + ' [SEP]'\n",
    "    hypothesis_tokens = tokenizer.tokenize(hypothesis)\n",
    "    # print(\"Hypothesis tokens are:\",hypothesis_tokens)\n",
    "\n",
    "    tokens = premise_tokens + hypothesis_tokens\n",
    "    # print(\"Combine sequence tokens are:\",tokens)\n",
    "    input_ids = tokenizer.convert_tokens_to_ids(tokens)\n",
    "    # print(\"Converted tokens into ids are:\",input_ids)\n",
    "    attention_mask = [1]*(len(tokens))\n",
    "    # print(\"Corresponding attention mask is:\", attention_mask)\n",
    "    token_type_ids = [0]*len(premise_tokens) + [1]*len(hypothesis_tokens)\n",
    "    # print(\"Corresponding token type is:\", token_type_ids)\n",
    "\n",
    "\n",
    "    input_ids = torch.tensor(input_ids, dtype=torch.long).unsqueeze(0).to(device)\n",
    "    attention_mask = torch.tensor(attention_mask, dtype=torch.long).unsqueeze(0).to(device)\n",
    "    token_type_ids = torch.tensor(token_type_ids, dtype=torch.long).unsqueeze(0).to(device)\n",
    "\n",
    "    \n",
    "    model.eval()  # Set the model to evaluation mode\n",
    "\n",
    "    with torch.no_grad():\n",
    "        # Forward pass to get the logits\n",
    "        outputs = model(input_ids, attention_mask, token_type_ids)\n",
    "\n",
    "    predicted_class = torch.argmax(outputs, dim=-1).item()\n",
    "\n",
    "    return predicted_class\n",
    "\n"
   ]
  },
  {
   "cell_type": "code",
   "execution_count": 196,
   "metadata": {},
   "outputs": [
    {
     "data": {
      "text/plain": [
       "BERTNLIModel(\n",
       "  (bert): BertModel(\n",
       "    (embeddings): BertEmbeddings(\n",
       "      (word_embeddings): Embedding(30522, 768, padding_idx=0)\n",
       "      (position_embeddings): Embedding(512, 768)\n",
       "      (token_type_embeddings): Embedding(2, 768)\n",
       "      (LayerNorm): LayerNorm((768,), eps=1e-12, elementwise_affine=True)\n",
       "      (dropout): Dropout(p=0.1, inplace=False)\n",
       "    )\n",
       "    (encoder): BertEncoder(\n",
       "      (layer): ModuleList(\n",
       "        (0-11): 12 x BertLayer(\n",
       "          (attention): BertAttention(\n",
       "            (self): BertSdpaSelfAttention(\n",
       "              (query): Linear(in_features=768, out_features=768, bias=True)\n",
       "              (key): Linear(in_features=768, out_features=768, bias=True)\n",
       "              (value): Linear(in_features=768, out_features=768, bias=True)\n",
       "              (dropout): Dropout(p=0.1, inplace=False)\n",
       "            )\n",
       "            (output): BertSelfOutput(\n",
       "              (dense): Linear(in_features=768, out_features=768, bias=True)\n",
       "              (LayerNorm): LayerNorm((768,), eps=1e-12, elementwise_affine=True)\n",
       "              (dropout): Dropout(p=0.1, inplace=False)\n",
       "            )\n",
       "          )\n",
       "          (intermediate): BertIntermediate(\n",
       "            (dense): Linear(in_features=768, out_features=3072, bias=True)\n",
       "            (intermediate_act_fn): GELUActivation()\n",
       "          )\n",
       "          (output): BertOutput(\n",
       "            (dense): Linear(in_features=3072, out_features=768, bias=True)\n",
       "            (LayerNorm): LayerNorm((768,), eps=1e-12, elementwise_affine=True)\n",
       "            (dropout): Dropout(p=0.1, inplace=False)\n",
       "          )\n",
       "        )\n",
       "      )\n",
       "    )\n",
       "    (pooler): BertPooler(\n",
       "      (dense): Linear(in_features=768, out_features=768, bias=True)\n",
       "      (activation): Tanh()\n",
       "    )\n",
       "  )\n",
       "  (out): Linear(in_features=768, out_features=3, bias=True)\n",
       ")"
      ]
     },
     "execution_count": 196,
     "metadata": {},
     "output_type": "execute_result"
    }
   ],
   "source": [
    "\n",
    "model.load_state_dict(torch.load('best-model.pt'))\n",
    "# Assuming the model is on GPU, otherwise use CPU\n",
    "device = torch.device('cuda' if torch.cuda.is_available() else 'cpu')\n",
    "model.to(device)\n"
   ]
  },
  {
   "cell_type": "code",
   "execution_count": 199,
   "metadata": {},
   "outputs": [
    {
     "name": "stdout",
     "output_type": "stream",
     "text": [
      "premise is: A woman within an orchestra is playing a violin .\n",
      "hypothesis is: A woman is playing the violin .\n",
      "Prediction Label is:      entailment       and True Label is:      entailment\n",
      "-----------------------------------------------------------------\n",
      "-----------------------------------------------------------------\n",
      "premise is: Two men climbing on a wooden scaffold .\n",
      "hypothesis is: Two sad men climbing on a wooden scaffold .\n",
      "Prediction Label is:      neutral       and True Label is:      neutral\n",
      "-----------------------------------------------------------------\n",
      "-----------------------------------------------------------------\n",
      "premise is: A man in a black shirt , in a commercial kitchen , holding up meat he took out of a bag .\n",
      "hypothesis is: A man in a black shirt , in a commercial kitchen , holding up the old meat he took out of a bag .\n",
      "Prediction Label is:      neutral       and True Label is:      neutral\n",
      "-----------------------------------------------------------------\n",
      "-----------------------------------------------------------------\n",
      "premise is: a woman in a black shirt looking at a bicycle .\n",
      "hypothesis is: A woman dressed in black shops for a bicycle .\n",
      "Prediction Label is:      neutral       and True Label is:      neutral\n",
      "-----------------------------------------------------------------\n",
      "-----------------------------------------------------------------\n",
      "premise is: many children play in the water .\n",
      "hypothesis is: The children are playing mini golf .\n",
      "Prediction Label is:      contradiction       and True Label is:      contradiction\n",
      "-----------------------------------------------------------------\n",
      "-----------------------------------------------------------------\n"
     ]
    }
   ],
   "source": [
    "dataset_path = \"./dataset/test.tsv\"\n",
    "data = pd.read_csv(dataset_path, sep='\\t')\n",
    "\n",
    "for i in [100,200,300,400,500]:\n",
    "\n",
    "\n",
    "\n",
    "    sent1 = data['Sent1_parse'][i]\n",
    "    sent2 = data['Sent2_parse'][i]\n",
    "    label = data[\"Label\"][i]\n",
    "\n",
    "    premise = extract_raw_sentence(sent1)\n",
    "    hypothesis = extract_raw_sentence(sent2)\n",
    "\n",
    "    print(\"premise is:\", premise)\n",
    "    print(\"hypothesis is:\", hypothesis)\n",
    "\n",
    "    # premise = \"The man is playing soccer.\"\n",
    "    # hypothesis = \"The man is playing a sport.\"\n",
    "\n",
    "    # Get the prediction\n",
    "    predicted_class = predict(model, premise, hypothesis, tokenizer, device)\n",
    "    label_dict = {0: 'entailment', 1: 'contradiction', 2: 'neutral'}\n",
    "    predicted_label = label_dict[predicted_class]\n",
    "\n",
    "    # Print the predicted label\n",
    "    print(f\"Prediction Label is:      {predicted_label}       and True Label is:      {label}\")\n",
    "\n",
    "\n",
    "\n",
    "    print(\"-----------------------------------------------------------------\")\n",
    "    print(\"-----------------------------------------------------------------\")\n"
   ]
  },
  {
   "cell_type": "code",
   "execution_count": null,
   "metadata": {},
   "outputs": [],
   "source": []
  }
 ],
 "metadata": {
  "kernelspec": {
   "display_name": "IBMTS",
   "language": "python",
   "name": "python3"
  },
  "language_info": {
   "codemirror_mode": {
    "name": "ipython",
    "version": 3
   },
   "file_extension": ".py",
   "mimetype": "text/x-python",
   "name": "python",
   "nbconvert_exporter": "python",
   "pygments_lexer": "ipython3",
   "version": "3.10.13"
  }
 },
 "nbformat": 4,
 "nbformat_minor": 2
}
